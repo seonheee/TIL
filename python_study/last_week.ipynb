{
 "cells": [
  {
   "cell_type": "markdown",
   "id": "901252a6",
   "metadata": {},
   "source": [
    "# 1. 삼총사"
   ]
  },
  {
   "cell_type": "code",
   "execution_count": 10,
   "id": "c5451bd9",
   "metadata": {},
   "outputs": [
    {
     "name": "stdout",
     "output_type": "stream",
     "text": [
      "5\n"
     ]
    }
   ],
   "source": [
    "from itertools import combinations\n",
    "\n",
    "def solution(number):\n",
    "    count=0\n",
    "    for nums in combinations(number, 3):\n",
    "        if sum(nums)==0:\n",
    "            count+=1\n",
    "    return count\n",
    "            \n",
    "    \n",
    "print(solution([-3, -2, -1, 0, 1, 2, 3]))"
   ]
  },
  {
   "cell_type": "markdown",
   "id": "73f3cf5d",
   "metadata": {},
   "source": [
    "# 2. 신고 결과 받기"
   ]
  },
  {
   "cell_type": "code",
   "execution_count": 11,
   "id": "de1bc670",
   "metadata": {},
   "outputs": [
    {
     "name": "stdout",
     "output_type": "stream",
     "text": [
      "{'muzi': 0, 'frodo': 0, 'apeach': 0, 'neo': 0}\n"
     ]
    }
   ],
   "source": [
    "def solution(id_list, report, k):\n",
    "    #1. \" \"로 나눠줌\n",
    "    li=[]\n",
    "    for i in report:\n",
    "        s=i.split(\" \")\n",
    "        li.append(s)\n",
    "    # 2. 중복을 없애줌\n",
    "    after_list=[]\n",
    "    [ after_list.append(x) for x in li if x not in  after_list]\n",
    "    # 3. 사람별로 신고한 리스트를 만들어줌\n",
    "    dic={}\n",
    "    for a, b in after_list:\n",
    "        if a not in dic:\n",
    "            dic[a] = []\n",
    "        dic[a].append(b)\n",
    "    #{'muzi': ['frodo', 'neo'], 'apeach': ['frodo', 'muzi'], 'frodo': ['neo']}\n",
    "    \n",
    "    #4. 신고자별로 카운트를 세는 딕셔너리릘 만듦\n",
    "    dic2={}\n",
    "    for i in  id_list:\n",
    "        dic2[i]=0\n",
    "    #{'muzi': 0, 'frodo': 0, 'apeach': 0, 'neo': 0}\n",
    "\n",
    "    for i in dic2:\n",
    "        count = 0 \n",
    "        for j in dic: \n",
    "            if dic2[i] == dic[j]:\n",
    "                count+=1 \n",
    "        dic[i] = count\n",
    "    print(dic2) #{'muzi': 0, 'frodo': 0, 'apeach': 0, 'neo': 0} 실패!!!\n",
    "    \n",
    "solution([\"muzi\", \"frodo\", \"apeach\", \"neo\"],[\"muzi frodo\",\"apeach frodo\",\"frodo neo\",\"muzi neo\",\"apeach muzi\"],2)\n",
    "        "
   ]
  },
  {
   "cell_type": "code",
   "execution_count": 12,
   "id": "7cfc4e38",
   "metadata": {},
   "outputs": [],
   "source": [
    "def solution(id_list, report, k):\n",
    "    li=[]\n",
    "    for i in report:\n",
    "        s=i.split(\" \")\n",
    "        li.append(s)\n",
    "    after_list=[]\n",
    "    [ after_list.append(x) for x in li if x not in  after_list]\n",
    "\n",
    "    dic={}\n",
    "    for a, b in after_list:\n",
    "        if a not in dic:\n",
    "            dic[a] = []\n",
    "        dic[a].append(b)\n",
    "    #{'muzi': ['frodo', 'neo'], 'apeach': ['frodo', 'muzi'], 'frodo': ['neo']}\n",
    "    dic2={}\n",
    "    for i in  id_list:\n",
    "        dic2[i]=0\n",
    "    #{'muzi': 0, 'frodo': 0, 'apeach': 0, 'neo': 0}\n",
    "    \n",
    "    for i in dic2:\n",
    "        for k, v in dic.items():\n",
    "            if i in v:\n",
    "                dic2[i]+=1\n",
    "    # {'muzi': 1, 'frodo': 2, 'apeach': 0, 'neo': 2}\n",
    "      \n",
    "    \n",
    "                \n",
    "    \n",
    "        \n",
    "solution([\"muzi\", \"frodo\", \"apeach\", \"neo\"],[\"muzi frodo\",\"apeach frodo\",\"frodo neo\",\"muzi neo\",\"apeach muzi\"],2)"
   ]
  },
  {
   "cell_type": "markdown",
   "id": "6b975836",
   "metadata": {},
   "source": [
    "for문이 너무 많이 돌게 됨. 맨처음 리스트부터 다시 만들어야지"
   ]
  },
  {
   "cell_type": "code",
   "execution_count": 13,
   "id": "feb8bbbf",
   "metadata": {},
   "outputs": [
    {
     "name": "stdout",
     "output_type": "stream",
     "text": [
      "[2, 1, 1, 2, 1, 1, 2, 1, 1, 0]\n"
     ]
    }
   ],
   "source": [
    "\n",
    "def solution(id_list, report, k):\n",
    "    li=[]\n",
    "    for i in report:\n",
    "        s=i.split(\" \")\n",
    "        li.append(s)\n",
    "    after_list=[]\n",
    "    [ after_list.append(x) for x in li if x not in after_list]\n",
    "\n",
    "    dic={}\n",
    "    for a, b in after_list:\n",
    "        if a not in dic:\n",
    "            dic[a] = []\n",
    "        dic[a].append(b)\n",
    "    #{'muzi': ['frodo', 'neo'], 'apeach': ['frodo', 'muzi'], 'frodo': ['neo']}\n",
    "    dic2={}\n",
    "    for i in  id_list:\n",
    "        dic2[i]=0\n",
    "    #{'muzi': 0, 'frodo': 0, 'apeach': 0, 'neo': 0}\n",
    "    \n",
    "    for i in dic2:\n",
    "        for key1, v in dic.items():\n",
    "            if i in v:\n",
    "                dic2[i]+=1\n",
    "    # {'muzi': 1, 'frodo': 2, 'apeach': 0, 'neo': 2}\n",
    "    report_list=[]\n",
    "    for c in dic2:\n",
    "        if dic2[c]>= k:\n",
    "            report_list.append(c)\n",
    "    #['frodo', 'neo']\n",
    "    last_list=[]\n",
    "    for z in id_list:\n",
    "        if z in dic:\n",
    "            for key2, value in dic.items():\n",
    "                count = 0\n",
    "                for s in value:\n",
    "                    count += report_list.count(s)\n",
    "                last_list.append(count)\n",
    "        else:\n",
    "            last_list.append(0)\n",
    "    print(last_list)\n",
    "    \n",
    "solution([\"muzi\", \"frodo\", \"apeach\", \"neo\"],[\"muzi frodo\",\"apeach frodo\",\"frodo neo\",\"muzi neo\",\"apeach muzi\"],2)"
   ]
  },
  {
   "cell_type": "markdown",
   "id": "df7cdf9e",
   "metadata": {},
   "source": [
    "딕셔너리를 id리스트대로 정렬하고 dic에 neo도 넣음! 답은 나오지만 시간초과가 뜸"
   ]
  },
  {
   "cell_type": "code",
   "execution_count": 15,
   "id": "b1260a56",
   "metadata": {},
   "outputs": [
    {
     "name": "stdout",
     "output_type": "stream",
     "text": [
      "[2, 1, 1, 0]\n"
     ]
    }
   ],
   "source": [
    "def solution(id_list, report, k):\n",
    "    li=[]\n",
    "    for i in report:\n",
    "        s=i.split(\" \")\n",
    "        li.append(s)\n",
    "\n",
    "    after_list=[]\n",
    "    [ after_list.append(x) for x in li if x not in after_list]\n",
    "    #[['muzi', 'frodo'], ['apeach', 'frodo'], ['frodo', 'neo'], ['muzi', 'neo'], ['apeach', 'muzi']]\n",
    "    \n",
    "    dic={}\n",
    "    for a, b in after_list:\n",
    "        if a not in dic:\n",
    "            dic[a] = []\n",
    "        dic[a].append(b)\n",
    "    for i in id_list:\n",
    "        if i not in dic:\n",
    "            dic[i]=\" \"\n",
    "    sorted_dic = {key: dic[key] for key in id_list if key in dic}\n",
    "   #{'muzi': ['frodo', 'neo'], 'apeach': ['frodo', 'muzi'], 'frodo': ['neo'], 'neo': ' '}\n",
    "    dic2 = {i: 0 for i in id_list}\n",
    "    #{'muzi': 0, 'frodo': 0, 'apeach': 0, 'neo': 0}\n",
    "    \n",
    "    for i in dic2:\n",
    "        for key1, v in sorted_dic.items():\n",
    "            if i in v:\n",
    "                dic2[i]+=1\n",
    "    # {'muzi': 1, 'frodo': 2, 'apeach': 0, 'neo': 2}\n",
    "    report_list=[]\n",
    "    for c in dic2:\n",
    "        if dic2[c]>= k:\n",
    "            report_list.append(c)\n",
    "    #['frodo', 'neo']\n",
    "    last_list=[]\n",
    "    for key2, value in sorted_dic.items():\n",
    "        count = 0\n",
    "        for s in value:\n",
    "            count += report_list.count(s)\n",
    "        last_list.append(count)\n",
    "    print(last_list)\n",
    "                    \n",
    "        \n",
    "                    \n",
    "solution([\"muzi\", \"frodo\", \"apeach\", \"neo\"],[\"muzi frodo\",\"apeach frodo\",\"frodo neo\",\"muzi neo\",\"apeach muzi\"],2)"
   ]
  },
  {
   "cell_type": "markdown",
   "id": "a3849828",
   "metadata": {},
   "source": [
    "계속해도 안되니 일단..oneline coding이라도 해보자"
   ]
  },
  {
   "cell_type": "code",
   "execution_count": 16,
   "id": "4dd914ca",
   "metadata": {},
   "outputs": [],
   "source": [
    "\n",
    "def solution(id_list, report, k):\n",
    "    li=[]\n",
    "    [li.append(i.split(\" \")) for i in report]\n",
    "    \n",
    "    after_list=[]\n",
    "    [after_list.append(x) for x in li if x not in after_list]\n",
    "\n",
    "    \n",
    "    dic={}\n",
    "    for a, b in after_list:\n",
    "        if a not in dic:\n",
    "            dic[a] = []\n",
    "        dic[a].append(b)\n",
    "    for i in id_list:\n",
    "        if i not in dic:\n",
    "            dic[i]=\" \"\n",
    "    sorted_dic = {key: dic[key] for key in id_list if key in dic}\n",
    "  \n",
    "    dic2={i:0 for i in  id_list}\n",
    "\n",
    "    for i in dic2:\n",
    "        for key1, v in sorted_dic.items():\n",
    "            if i in v: dic2[i]+=1\n",
    " \n",
    "    report_list=[]\n",
    "    [report_list.append(c) for c in dic2 if dic2[c]>= k]\n",
    "\n",
    "    last_list=[]\n",
    "    for key2, value in sorted_dic.items():\n",
    "        count = 0\n",
    "        for s in value:\n",
    "            count += report_list.count(s)\n",
    "        last_list.append(count)\n",
    "    return last_list"
   ]
  },
  {
   "cell_type": "markdown",
   "id": "250c9b78",
   "metadata": {},
   "source": [
    "# 3. 모음 사전"
   ]
  },
  {
   "cell_type": "code",
   "execution_count": 26,
   "id": "c0cbb50f",
   "metadata": {},
   "outputs": [
    {
     "name": "stdout",
     "output_type": "stream",
     "text": [
      "['E', 'I', 'O']\n"
     ]
    },
    {
     "data": {
      "text/plain": [
       "1189"
      ]
     },
     "execution_count": 26,
     "metadata": {},
     "output_type": "execute_result"
    }
   ],
   "source": [
    "def solution(word):\n",
    "    dic = {\"A\":0, \"E\":1, \"I\":2, \"O\":3, \"U\":4}\n",
    "    wordlist = [char for char in word] \n",
    "    print(wordlist)\n",
    "    answer = 0\n",
    "    for i in range(len(wordlist)):\n",
    "        n=4-i\n",
    "        answer += 1+((5**(n+1)-1)/4)*dic[wordlist[i]]\n",
    "    \n",
    "\n",
    "    return int(answer)\n",
    "solution(\"EIO\")"
   ]
  },
  {
   "cell_type": "markdown",
   "id": "0dc7bc1d",
   "metadata": {},
   "source": [
    "![KakaoTalk 이미지](C:/Users/신선희/Desktop/python/TIL/python_study/KakaoTalk_20250828_182412654.jpg)\n"
   ]
  },
  {
   "cell_type": "markdown",
   "id": "029b11be",
   "metadata": {},
   "source": []
  }
 ],
 "metadata": {
  "kernelspec": {
   "display_name": "Python 3",
   "language": "python",
   "name": "python3"
  },
  "language_info": {
   "codemirror_mode": {
    "name": "ipython",
    "version": 3
   },
   "file_extension": ".py",
   "mimetype": "text/x-python",
   "name": "python",
   "nbconvert_exporter": "python",
   "pygments_lexer": "ipython3",
   "version": "3.13.5"
  }
 },
 "nbformat": 4,
 "nbformat_minor": 5
}
