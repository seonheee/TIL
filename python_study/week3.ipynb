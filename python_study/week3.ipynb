{
 "cells": [
  {
   "cell_type": "markdown",
   "id": "2410b370",
   "metadata": {},
   "source": [
    "# 1. 연속된 수의 합\n",
    "연속된 세 개의 정수를 더해 12가 되는 경우는 3, 4, 5입니다. 두 정수 num과 total이 주어집니다. 연속된 수 num개를 더한 값이 total이 될 때, 정수 배열을 오름차순으로 담아 return하도록 solution함수를 완성해보세요."
   ]
  },
  {
   "cell_type": "code",
   "execution_count": 1,
   "id": "e302b149",
   "metadata": {},
   "outputs": [
    {
     "name": "stdout",
     "output_type": "stream",
     "text": [
      "[3, 4, 5]\n"
     ]
    }
   ],
   "source": [
    "def solution(num, total):\n",
    "    a=int(total/num+(1-num)/2)\n",
    "    answer=[]\n",
    "    for _ in range(num):\n",
    "        answer.append(a)\n",
    "        a+=1\n",
    "    return answer\n",
    "    \n",
    "print(solution(3,12))\n"
   ]
  },
  {
   "cell_type": "markdown",
   "id": "ca9e7585",
   "metadata": {},
   "source": [
    "### 다른 사람 풀이"
   ]
  },
  {
   "cell_type": "code",
   "execution_count": 2,
   "id": "cf562f52",
   "metadata": {},
   "outputs": [],
   "source": [
    "def solution(num, total):\n",
    "    b = total // num - (num - 1) // 2\n",
    "    return list(range(b, b + num))"
   ]
  },
  {
   "cell_type": "markdown",
   "id": "afd678a2",
   "metadata": {},
   "source": [
    "# 2. 2016년\n",
    "2016년 1월 1일은 금요일입니다. 2016년 a월 b일은 무슨 요일일까요? 두 수 a ,b를 입력받아 2016년 a월 b일이 무슨 요일인지 리턴하는 함수, solution을 완성하세요. 요일의 이름은 일요일부터 토요일까지 각각 SUN,MON,TUE,WED,THU,FRI,SAT\n",
    "\n",
    "입니다. 예를 들어 a=5, b=24라면 5월 24일은 화요일이므로 문자열 \"TUE\"를 반환하세요."
   ]
  },
  {
   "cell_type": "code",
   "execution_count": 3,
   "id": "b077063a",
   "metadata": {},
   "outputs": [],
   "source": [
    "def solution(a, b):\n",
    "    month = {1:31,2:29,3:31,4:30,5:31,6:30,7:31,8:31,9:30,10:31,11:30,12:31}\n",
    "    day = {0:'FRI',1:'SAT',2:'SUN',3:'MON',4:'TUE',5:'WED',6:'THU'}\n",
    "    c=0\n",
    "    if a == 1:\n",
    "        d=(b-1)%7 \n",
    "    else:\n",
    "        for i in range(1,a):\n",
    "            c += month[i]\n",
    "        d=(c+b-1)%7\n",
    "    return day[d]"
   ]
  },
  {
   "cell_type": "markdown",
   "id": "2f6b5564",
   "metadata": {},
   "source": [
    "### 다른 사람 풀이"
   ]
  },
  {
   "cell_type": "code",
   "execution_count": 4,
   "id": "6852cd27",
   "metadata": {},
   "outputs": [],
   "source": [
    "\n",
    "def getDayName(a,b):\n",
    "    month = [31, 29, 31, 30, 31, 30, 31, 31, 30, 31, 30, 31]\n",
    "    day = ['FRI', 'SAT', 'SUN', 'MON', 'TUE', 'WED', 'THU']\n",
    "    return day[(sum(month[:a-1])+b-1)%7]"
   ]
  },
  {
   "cell_type": "markdown",
   "id": "0e026db7",
   "metadata": {},
   "source": [
    "# 3. 콜라 문제\n",
    "이 문제는 빈 병 a개를 가져다주면 콜라 b병을 주는 마트가 있을 때, 빈 병 n개를 가져다주면 몇 병을 받을 수 있는지 계산하는 문제입니다. 기존 콜라 문제와 마찬가지로, 보유 중인 빈 병이 a개 미만이면, 추가적으로 빈 병을 받을 순 없습니다. 상빈이는 열심히 고심했지만, 일반화된 콜라 문제의 답을 찾을 수 없었습니다. 상빈이를 도와, 일반화된 콜라 문제를 해결하는 프로그램을 만들어 주세요.\n",
    "\n",
    "콜라를 받기 위해 마트에 주어야 하는 병 수 a, 빈 병 a개를 가져다 주면 마트가 주는 콜라 병 수 b, 상빈이가 가지고 있는 빈 병의 개수 n이 매개변수로 주어집니다. 상빈이가 받을 수 있는 콜라의 병 수를 return 하도록 solution 함수를 작성해주세요."
   ]
  },
  {
   "cell_type": "code",
   "execution_count": 5,
   "id": "bfeeeeb3",
   "metadata": {},
   "outputs": [
    {
     "name": "stdout",
     "output_type": "stream",
     "text": [
      "19\n"
     ]
    }
   ],
   "source": [
    "def solution(a, b, n):\n",
    "    \n",
    "    count=0\n",
    "    while n>=a:\n",
    "        A=(n//a)*b\n",
    "        count+=A\n",
    "        n=n%a+A\n",
    "    return count\n",
    "print(solution(2,1,20))"
   ]
  },
  {
   "cell_type": "markdown",
   "id": "92f1858e",
   "metadata": {},
   "source": [
    "# 4. 공원 산책\n"
   ]
  },
  {
   "cell_type": "code",
   "execution_count": null,
   "id": "cf44de8c",
   "metadata": {},
   "outputs": [],
   "source": [
    "def solution(park, routes):\n",
    "    pa=[]\n",
    "    for i in range(len(park)):\n",
    "        pa.append(list(park[i]))\n",
    "    print(pa)\n",
    "\n",
    "    route = {}\n",
    "    for item in routes:\n",
    "        key, value = item.split()\n",
    "        route[key] = int(value)\n",
    "    print(route)\n",
    "\n",
    "    found = False\n",
    "    for i, row in enumerate(pa):\n",
    "        for j, cell in enumerate(row):\n",
    "            if cell == \"S\":\n",
    "\n",
    "                found = True\n",
    "                break\n",
    "        if found:\n",
    "            break\n",
    "    \n",
    "    #for a in range(len(route)):\n",
    "        #if route.key\n",
    "        \n",
    "solution([\"SOO\",\"OOO\",\"OOO\"],[\"E 2\",\"S 2\",\"W 1\"])"
   ]
  }
 ],
 "metadata": {
  "kernelspec": {
   "display_name": "Python 3",
   "language": "python",
   "name": "python3"
  },
  "language_info": {
   "codemirror_mode": {
    "name": "ipython",
    "version": 3
   },
   "file_extension": ".py",
   "mimetype": "text/x-python",
   "name": "python",
   "nbconvert_exporter": "python",
   "pygments_lexer": "ipython3",
   "version": "3.13.5"
  }
 },
 "nbformat": 4,
 "nbformat_minor": 5
}
