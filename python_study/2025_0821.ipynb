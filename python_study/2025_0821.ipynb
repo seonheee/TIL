{
 "cells": [
  {
   "cell_type": "markdown",
   "id": "4c279d11",
   "metadata": {},
   "source": [
    "# 데이터  분석"
   ]
  },
  {
   "cell_type": "code",
   "execution_count": 2,
   "id": "6617e50a",
   "metadata": {},
   "outputs": [
    {
     "name": "stdout",
     "output_type": "stream",
     "text": [
      "[[3, 20300401, 10, 8], [1, 20300104, 100, 80]]\n"
     ]
    }
   ],
   "source": [
    "def solution(data, ext, val_ext, sort_by):\n",
    "    answer=[]\n",
    "    code1 = {\"code\":0, \"date\":1, \"maximum\":2, \"remain\":3}\n",
    "    \n",
    "    for i in range(len(data)):\n",
    "        if data[i][code1[ext]]<val_ext:\n",
    "            answer.append(data[i])\n",
    "            \n",
    "    answer.sort(key = lambda x:x[code1[sort_by]])\n",
    "    return answer\n",
    "\n",
    "print(solution([[1, 20300104, 100, 80], [2, 20300804, 847, 37], [3, 20300401, 10, 8]],\"date\",20300501,\"remain\"))"
   ]
  },
  {
   "cell_type": "markdown",
   "id": "5d2110f8",
   "metadata": {},
   "source": [
    "# JadenCase 문자열 만들기\n"
   ]
  },
  {
   "cell_type": "code",
   "execution_count": 3,
   "id": "4883e826",
   "metadata": {},
   "outputs": [
    {
     "name": "stdout",
     "output_type": "stream",
     "text": [
      "3try Yhellqweqweo World\n"
     ]
    }
   ],
   "source": [
    "def solution(s):\n",
    "    s=s.split(\" \")\n",
    "    a=[0,1,2,3,4,5,6,7,8,9]\n",
    "    for i in range(len(s)):\n",
    "        if s[i][0] in a:\n",
    "            continue\n",
    "        else:\n",
    "            s[i]=s[i][0].upper()+s[i][1:]\n",
    "    return ' '.join(s)\n",
    "    \n",
    "\n",
    "print(solution(\"3try Yhellqweqweo world\"))"
   ]
  },
  {
   "cell_type": "code",
   "execution_count": null,
   "id": "32bdfafe",
   "metadata": {},
   "outputs": [],
   "source": []
  }
 ],
 "metadata": {
  "kernelspec": {
   "display_name": "Python 3",
   "language": "python",
   "name": "python3"
  },
  "language_info": {
   "codemirror_mode": {
    "name": "ipython",
    "version": 3
   },
   "file_extension": ".py",
   "mimetype": "text/x-python",
   "name": "python",
   "nbconvert_exporter": "python",
   "pygments_lexer": "ipython3",
   "version": "3.13.5"
  }
 },
 "nbformat": 4,
 "nbformat_minor": 5
}
