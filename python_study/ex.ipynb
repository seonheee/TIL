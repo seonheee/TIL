{
 "cells": [
  {
   "cell_type": "markdown",
   "id": "f32e429f",
   "metadata": {},
   "source": [
    "# 1. 영어가 싫어요"
   ]
  },
  {
   "cell_type": "code",
   "execution_count": 3,
   "id": "94d6b85e",
   "metadata": {},
   "outputs": [
    {
     "name": "stdout",
     "output_type": "stream",
     "text": [
      "123456789\n"
     ]
    }
   ],
   "source": [
    "def solution(numbers):\n",
    "    change = {\"one\":1, \"two\":2, \"three\":3, \"four\":4, \"five\":5, \n",
    "              \"six\":6, \"seven\":7, \"eight\":8, \"nine\":9, \"zero\":0}\n",
    "\n",
    "    for word, number in change.items():\n",
    "        numbers = numbers.replace(word, str(number))\n",
    "    answer = int(numbers)\n",
    "\n",
    "    return answer\n",
    "\n",
    "print(solution(\"onetwothreefourfivesixseveneightnine\"))"
   ]
  },
  {
   "cell_type": "markdown",
   "id": "56c98424",
   "metadata": {},
   "source": [
    "#  2. 소인수분해"
   ]
  },
  {
   "cell_type": "code",
   "execution_count": 4,
   "id": "db0d0d69",
   "metadata": {},
   "outputs": [
    {
     "name": "stdout",
     "output_type": "stream",
     "text": [
      "[2]\n"
     ]
    }
   ],
   "source": [
    "def solution(n):\n",
    "    answer = []\n",
    "    i=2\n",
    "    while i<=n:\n",
    "        if n%i == 0:\n",
    "            answer.append(i)\n",
    "            n = n//i\n",
    "        else:\n",
    "            i+=1\n",
    "            \n",
    "    real_answer=[]\n",
    "    for j in answer:\n",
    "        if j not in real_answer:\n",
    "             real_answer.append(j)\n",
    "    return real_answer\n",
    "\n",
    "print(solution(8))"
   ]
  },
  {
   "cell_type": "markdown",
   "id": "6817993d",
   "metadata": {},
   "source": [
    "### 소인수분해 다른사람풀이"
   ]
  },
  {
   "cell_type": "code",
   "execution_count": 7,
   "id": "62772e51",
   "metadata": {},
   "outputs": [],
   "source": [
    "\n",
    "def solution(n):\n",
    "    answer = []\n",
    "    d = 2\n",
    "    while d <= n:\n",
    "        if n % d == 0:\n",
    "            n /= d\n",
    "            if d not in answer:\n",
    "                answer.append(d)\n",
    "        else:\n",
    "            d += 1\n",
    "    return answer"
   ]
  },
  {
   "cell_type": "markdown",
   "id": "ada373c9",
   "metadata": {},
   "source": [
    "# 3. 잘라서 배열로 저장하기"
   ]
  },
  {
   "cell_type": "code",
   "execution_count": 9,
   "id": "9ee3ef36",
   "metadata": {},
   "outputs": [
    {
     "name": "stdout",
     "output_type": "stream",
     "text": [
      "['abc1Ad', 'dfggg4', '556b']\n"
     ]
    }
   ],
   "source": [
    "def solution(my_str, n):\n",
    "    answer = []\n",
    "    for i in range(0,len(my_str),n):\n",
    "        answer.append(my_str[i:i+n])\n",
    "    return answer\n",
    "\n",
    "print(solution(\"abc1Addfggg4556b\",6))"
   ]
  },
  {
   "cell_type": "markdown",
   "id": "bee90345",
   "metadata": {},
   "source": [
    "# 4. 종이 자르기"
   ]
  },
  {
   "cell_type": "code",
   "execution_count": 10,
   "id": "423fd9d7",
   "metadata": {},
   "outputs": [
    {
     "name": "stdout",
     "output_type": "stream",
     "text": [
      "9\n"
     ]
    }
   ],
   "source": [
    "def solution(M, N):\n",
    "    answer = (M-1)+M*(N-1)\n",
    "    return answer\n",
    "\n",
    "print(solution(2,5))"
   ]
  },
  {
   "cell_type": "markdown",
   "id": "46519082",
   "metadata": {},
   "source": [
    "# 5. 숨어있는 숫자의 덧셈(실패)"
   ]
  },
  {
   "cell_type": "code",
   "execution_count": 1,
   "id": "f9399f89",
   "metadata": {},
   "outputs": [
    {
     "name": "stdout",
     "output_type": "stream",
     "text": [
      "['', '', '', '1', '', '2', '', '', '3', '4', '', '', '']\n"
     ]
    }
   ],
   "source": [
    "def solution(my_string):\n",
    "    answer=[]\n",
    "    numbers=[\"1\",\"2\",\"3\",\"4\",\"5\",\"6\",\"7\",\"8\",\"9\",\"0\"]\n",
    "    \n",
    "    for i in range(0,len(my_string)):\n",
    "        if my_string[i] in numbers:\n",
    "            answer.append(my_string[i])\n",
    "        else:\n",
    "            answer.append(\"\") \n",
    "    \n",
    "    return answer\n",
    "print(solution(\"aAb1B2cC34oOp\"))"
   ]
  },
  {
   "cell_type": "markdown",
   "id": "ca36e26e",
   "metadata": {},
   "source": [
    "# 6. 문자열 계산하기"
   ]
  },
  {
   "cell_type": "markdown",
   "id": "37206b74",
   "metadata": {},
   "source": []
  },
  {
   "cell_type": "code",
   "execution_count": 1,
   "id": "3f4d69b7",
   "metadata": {},
   "outputs": [
    {
     "name": "stdout",
     "output_type": "stream",
     "text": [
      "7\n"
     ]
    }
   ],
   "source": [
    "def solution(my_string):\n",
    "    a = my_string.split(\" \")\n",
    "    numbers={}\n",
    "    for i in range(len(a)):\n",
    "        numbers[i]=a[i]\n",
    "    answer = int(numbers[0])\n",
    "\n",
    "    for i in range(1,len(numbers),2):\n",
    "        if numbers[i]==\"+\":\n",
    "            answer += int(numbers[i+1])\n",
    "        else:\n",
    "            answer -= int(numbers[i+1])\n",
    "            \n",
    "    return answer\n",
    "\n",
    "print(solution(\"3 + 4\"))"
   ]
  },
  {
   "cell_type": "markdown",
   "id": "773f4da8",
   "metadata": {},
   "source": [
    "#### 다른 사람 풀이"
   ]
  },
  {
   "cell_type": "code",
   "execution_count": 2,
   "id": "e188ac55",
   "metadata": {},
   "outputs": [],
   "source": [
    "def solution(my_string):\n",
    "    return sum(int(i) for i in my_string.replace(' - ', ' + -').split(' + '))"
   ]
  },
  {
   "cell_type": "markdown",
   "id": "1e5ddede",
   "metadata": {},
   "source": [
    "# 7. 외계어 사전"
   ]
  },
  {
   "cell_type": "code",
   "execution_count": 1,
   "id": "e29f5d5e",
   "metadata": {},
   "outputs": [
    {
     "name": "stdout",
     "output_type": "stream",
     "text": [
      "1\n"
     ]
    }
   ],
   "source": [
    "from itertools import permutations\n",
    "\n",
    "def solution(spell, dic):\n",
    "    li = []\n",
    "    for i in permutations(spell,len(spell)):\n",
    "        a=\"\".join(i)\n",
    "        li.append(a)\n",
    "    for i in range(len(li)):\n",
    "        if li[i] in dic:\n",
    "            answer=1\n",
    "            break\n",
    "        else:\n",
    "            answer=2 \n",
    "\n",
    "    return answer\n",
    "print(solution([\"z\", \"d\", \"x\"],[\"def\", \"dww\", \"dzx\", \"loveaw\"]))"
   ]
  },
  {
   "cell_type": "markdown",
   "id": "9abd05a9",
   "metadata": {},
   "source": [
    "### 다른 사람 풀이"
   ]
  },
  {
   "cell_type": "code",
   "execution_count": 2,
   "id": "d9b0b4a6",
   "metadata": {},
   "outputs": [],
   "source": [
    "\n",
    "def solution(spell, dic):\n",
    "    for d in dic:\n",
    "        if sorted(d) == sorted(spell):\n",
    "            return 1\n",
    "    return 2"
   ]
  },
  {
   "cell_type": "markdown",
   "id": "08d636a8",
   "metadata": {},
   "source": [
    "# 8. 공 던지기"
   ]
  },
  {
   "cell_type": "code",
   "execution_count": 3,
   "id": "cb570542",
   "metadata": {},
   "outputs": [
    {
     "name": "stdout",
     "output_type": "stream",
     "text": [
      "3\n"
     ]
    }
   ],
   "source": [
    "def solution(numbers, k):\n",
    "    a=2*k-1\n",
    "    b=a%len(numbers)\n",
    "    answer=numbers[b-1]\n",
    "    return answer\n",
    "\n",
    "print(solution([1, 2, 3, 4, 5, 6],5))"
   ]
  },
  {
   "cell_type": "markdown",
   "id": "b04207d0",
   "metadata": {},
   "source": [
    "#### 다른 사람 풀이"
   ]
  },
  {
   "cell_type": "code",
   "execution_count": null,
   "id": "dda096b1",
   "metadata": {},
   "outputs": [],
   "source": [
    "def solution(numbers, k):\n",
    "    return numbers[2 * (k - 1) % len(numbers)]"
   ]
  }
 ],
 "metadata": {
  "kernelspec": {
   "display_name": "Python 3",
   "language": "python",
   "name": "python3"
  },
  "language_info": {
   "codemirror_mode": {
    "name": "ipython",
    "version": 3
   },
   "file_extension": ".py",
   "mimetype": "text/x-python",
   "name": "python",
   "nbconvert_exporter": "python",
   "pygments_lexer": "ipython3",
   "version": "3.13.5"
  }
 },
 "nbformat": 4,
 "nbformat_minor": 5
}
