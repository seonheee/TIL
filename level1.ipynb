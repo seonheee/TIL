{
 "cells": [
  {
   "cell_type": "markdown",
   "id": "6dc58639",
   "metadata": {},
   "source": [
    "# 1. 문자열 내 p와 y의 개수"
   ]
  },
  {
   "cell_type": "markdown",
   "id": "fa022110",
   "metadata": {},
   "source": [
    " 문제 설명</br> 대문자와 소문자가 섞여있는 문자열 s가 주어집니다. s에 'p'의 개수와 'y'의 개수를 비교해 같으면 True, 다르면 False를 return 하는 solution를 완성하세요. 'p', 'y' 모두 하나도 없는 경우는 항상 True를 리턴합니다.</br> 단, 개수를 비교할 때 대문자와 소문자는 구별하지 않습니다.예를 들어 s가 \"pPoooyY\"면 true를 return하고 \"Pyy\"라면 false를 return합니다."
   ]
  },
  {
   "cell_type": "code",
   "execution_count": 1,
   "id": "f8c20948",
   "metadata": {},
   "outputs": [
    {
     "name": "stdout",
     "output_type": "stream",
     "text": [
      "True\n",
      "False\n"
     ]
    }
   ],
   "source": [
    "def solution(s):\n",
    "    ss=s.upper()\n",
    "    if ss.count(\"P\") == ss.count(\"Y\"):\n",
    "        return True\n",
    "    else:\n",
    "        return False\n",
    " \n",
    "#예시출력   \n",
    "print( solution(\"pPoooyY\") )\n",
    "print( solution(\"Pyy\") )"
   ]
  },
  {
   "cell_type": "markdown",
   "id": "f32fffa8",
   "metadata": {},
   "source": [
    "### 다른 사람 풀이"
   ]
  },
  {
   "cell_type": "code",
   "execution_count": 2,
   "id": "0e32292b",
   "metadata": {},
   "outputs": [],
   "source": [
    "def numPY(s):\n",
    "    return s.lower().count('p') == s.lower().count('y')"
   ]
  },
  {
   "cell_type": "markdown",
   "id": "8475bfe9",
   "metadata": {},
   "source": [
    "# 2. 최대공약수와 최소공배수\n",
    "두 수를 입력받아 두 수의 최대공약수와 최소공배수를 반환하는 함수, solution을 완성해 보세요. 배열의 맨 앞에 최대공약수, 그다음 최소공배수를 넣어 반환하면 됩니다. 예를 들어 두 수 3, 12의 최대공약수는 3, 최소공배수는 12이므로 solution(3, 12)는 [3, 12]를 반환해야 합니다."
   ]
  },
  {
   "cell_type": "code",
   "execution_count": 3,
   "id": "a82be19b",
   "metadata": {},
   "outputs": [
    {
     "name": "stdout",
     "output_type": "stream",
     "text": [
      "[3, 12]\n"
     ]
    }
   ],
   "source": [
    "def solution(n, m):\n",
    "    list=[]\n",
    "    for i in range(1,max(n,m)):\n",
    "        if n%i==0 and m%i==0:\n",
    "            list.append(i)\n",
    "    a = max(list)\n",
    "    if a==1:\n",
    "        b=m*n\n",
    "    else:\n",
    "        b=a*(m//a)*(n//a)\n",
    "    \n",
    "    answer=[a,b]\n",
    "    return answer\n",
    "print(solution(3,12))"
   ]
  },
  {
   "cell_type": "markdown",
   "id": "cb27aadb",
   "metadata": {},
   "source": [
    "### 다른 사람 풀이"
   ]
  },
  {
   "cell_type": "code",
   "execution_count": 4,
   "id": "2f39661d",
   "metadata": {},
   "outputs": [],
   "source": [
    "def gcdlcm(a, b):\n",
    "    c,d = max(a, b), min(a, b)\n",
    "    t = 1\n",
    "    while t>0:\n",
    "        t = c%d\n",
    "        c, d = d, t\n",
    "    answer = [ c, int (a*b/c)]\n",
    "    return answer"
   ]
  },
  {
   "cell_type": "markdown",
   "id": "8960a8ae",
   "metadata": {},
   "source": [
    "# 3. 이상한 문자 만들기\n",
    "문자열 s는 한 개 이상의 단어로 구성되어 있습니다. 각 단어는 하나 이상의 공백문자로 구분되어 있습니다. 각 단어의 짝수번째 알파벳은 대문자로, 홀수번째 알파벳은 소문자로 바꾼 문자열을 리턴하는 함수, solution을 완성하세요.</br>\n",
    "\"try hello world\">>\"TrY HeLlO WoRlD\""
   ]
  },
  {
   "cell_type": "code",
   "execution_count": 5,
   "id": "01b6ec1f",
   "metadata": {},
   "outputs": [
    {
     "name": "stdout",
     "output_type": "stream",
     "text": [
      "TrY HeLlQwEqWeO WoRlD\n"
     ]
    }
   ],
   "source": [
    "def solution(s):\n",
    "    s=s.split(\" \")\n",
    "    bb=[]\n",
    "    for i in range(len(s)):\n",
    "        b=\"\"\n",
    "        for j in range(len(s[i])):\n",
    "            if j%2==0:\n",
    "                b+=s[i][j].upper()\n",
    "            else:\n",
    "                b+=s[i][j].lower()\n",
    "        bb.append(b)\n",
    "        \n",
    "    return \" \".join(bb)\n",
    "    \n",
    "\n",
    "print(solution(\"try hellqweqweo world\"))"
   ]
  },
  {
   "cell_type": "markdown",
   "id": "5e21c3dc",
   "metadata": {},
   "source": [
    "# 4. 모의고사\n",
    "수포자는 수학을 포기한 사람의 준말입니다. 수포자 삼인방은 모의고사에 수학 문제를 전부 찍으려 합니다. 수포자는 1번 문제부터 마지막 문제까지 다음과 같이 찍습니다.</br>\n",
    "\n",
    "1번 수포자가 찍는 방식: 1, 2, 3, 4, 5, 1, 2, 3, 4, 5, ...</br>\n",
    "2번 수포자가 찍는 방식: 2, 1, 2, 3, 2, 4, 2, 5, 2, 1, 2, 3, 2, 4, 2, 5, ...</br>\n",
    "3번 수포자가 찍는 방식: 3, 3, 1, 1, 2, 2, 4, 4, 5, 5, 3, 3, 1, 1, 2, 2, 4, 4, 5, 5, ...</br>\n",
    "\n",
    "1번 문제부터 마지막 문제까지의 정답이 순서대로 들은 배열 answers가 주어졌을 때, 가장 많은 문제를 맞힌 사람이 누구인지 배열에 담아 return 하도록 solution 함수를 작성해주세요."
   ]
  },
  {
   "cell_type": "code",
   "execution_count": 1,
   "id": "8787dec0",
   "metadata": {},
   "outputs": [],
   "source": [
    "def solution(answers):\n",
    "    one = [1,2,3,4,5]\n",
    "    two = [2,1,2,3,2,4,2,5]\n",
    "    three = [3,3,1,1,2,2,4,4,5,5]\n",
    "    \n",
    "    a = len(answers)\n",
    "    "
   ]
  },
  {
   "cell_type": "code",
   "execution_count": null,
   "id": "d9eb4d60",
   "metadata": {},
   "outputs": [],
   "source": []
  }
 ],
 "metadata": {
  "kernelspec": {
   "display_name": "Python 3",
   "language": "python",
   "name": "python3"
  },
  "language_info": {
   "codemirror_mode": {
    "name": "ipython",
    "version": 3
   },
   "file_extension": ".py",
   "mimetype": "text/x-python",
   "name": "python",
   "nbconvert_exporter": "python",
   "pygments_lexer": "ipython3",
   "version": "3.13.5"
  }
 },
 "nbformat": 4,
 "nbformat_minor": 5
}
